{
  "nbformat": 4,
  "nbformat_minor": 0,
  "metadata": {
    "colab": {
      "provenance": [],
      "authorship_tag": "ABX9TyOUCq14X37k8MTvHEZ3eHrH"
    },
    "kernelspec": {
      "name": "python3",
      "display_name": "Python 3"
    },
    "language_info": {
      "name": "python"
    }
  },
  "cells": [
    {
      "cell_type": "code",
      "source": [
        "!pip3 install BeautifulSoup4 \n",
        "!pip3 install urllib3\n",
        "!pip3 install PyPDF2"
      ],
      "metadata": {
        "id": "Ou-lQt7M3EZT"
      },
      "execution_count": null,
      "outputs": []
    },
    {
      "cell_type": "code",
      "execution_count": null,
      "metadata": {
        "id": "ksw2Nc3g2RS6"
      },
      "outputs": [],
      "source": [
        "import requests\n",
        "import os\n",
        "from bs4 import BeautifulSoup\n",
        "import urllib3\n",
        "import re"
      ]
    },
    {
      "cell_type": "code",
      "source": [
        "mit_url = input('Enter the MIT Press Link to download : ')\n",
        "print(f'You entered {mit_url}')\n",
        "url_base_name = os.path.basename(mit_url) + \".pdf\""
      ],
      "metadata": {
        "id": "VmRf0TetFOce"
      },
      "execution_count": null,
      "outputs": []
    },
    {
      "cell_type": "code",
      "source": [
        "http = urllib3.PoolManager()\n",
        "r = http.request('GET', mit_url)"
      ],
      "metadata": {
        "id": "kbEsw8T12p3T"
      },
      "execution_count": null,
      "outputs": []
    },
    {
      "cell_type": "code",
      "source": [
        "soup = BeautifulSoup(r.data)"
      ],
      "metadata": {
        "id": "AMaUVKcA4HfR"
      },
      "execution_count": null,
      "outputs": []
    },
    {
      "cell_type": "code",
      "source": [
        "file_list = []\n",
        "for item in soup.find_all(class_=\"content-main_content\"):\n",
        "    for span in item.find_all('span',text=re.compile(\"PDF Link\")):\n",
        "        each_pdf_link_dom = span.parent.parent\n",
        "        each_link = \"https://direct.mit.edu/\" + each_pdf_link_dom.get('href')\n",
        "        print(each_link)\n",
        "        pdf_name = os.path.basename(each_link)\n",
        "        response = http.request('GET', each_link)\n",
        "        open(pdf_name, \"wb\").write(response.data)\n",
        "        file_list.append(pdf_name)\n",
        "\n",
        "print(file_list)\n",
        "        "
      ],
      "metadata": {
        "id": "Ttw47AlL5iAA"
      },
      "execution_count": null,
      "outputs": []
    },
    {
      "cell_type": "code",
      "source": [
        "from PyPDF2 import PdfMerger\n",
        "merger = PdfMerger()\n",
        "\n",
        "for pdf in file_list:\n",
        "    merger.append(pdf)\n",
        "\n",
        "merger.write(url_base_name)\n",
        "merger.close()"
      ],
      "metadata": {
        "id": "8a7d7c39CNVk"
      },
      "execution_count": null,
      "outputs": []
    },
    {
      "cell_type": "code",
      "source": [
        "from google.colab import files\n",
        "files.download(url_base_name)"
      ],
      "metadata": {
        "id": "hZcvmqeXEbe5"
      },
      "execution_count": null,
      "outputs": []
    },
    {
      "cell_type": "code",
      "source": [
        "from requests.api import delete\n",
        "for pdf in file_list:\n",
        "  os.remove(pdf)\n",
        "os.remove(url_base_name)"
      ],
      "metadata": {
        "id": "_erOVwm0E7bq"
      },
      "execution_count": null,
      "outputs": []
    }
  ]
}